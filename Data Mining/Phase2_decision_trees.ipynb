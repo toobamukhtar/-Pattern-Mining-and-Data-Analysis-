{
 "cells": [
  {
   "cell_type": "code",
   "execution_count": 1,
   "metadata": {
    "collapsed": true
   },
   "outputs": [],
   "source": [
    "import pandas as pd\n",
    "import numpy as np\n",
    "from sklearn import datasets\n",
    "from sklearn.preprocessing import MinMaxScaler\n",
    "from sklearn.naive_bayes import GaussianNB\n",
    "from sklearn.model_selection import train_test_split\n",
    "from sklearn.metrics import accuracy_score,confusion_matrix,precision_score,recall_score,classification_report\n",
    "from sklearn.model_selection import cross_val_score\n",
    "from sklearn import tree\n",
    "import seaborn as sns\n",
    "import matplotlib.pyplot as plt\n",
    "import graphviz"
   ]
  },
  {
   "cell_type": "markdown",
   "metadata": {},
   "source": [
    "## Load Data"
   ]
  },
  {
   "cell_type": "code",
   "execution_count": 45,
   "metadata": {
    "collapsed": true
   },
   "outputs": [],
   "source": [
    "df = pd.read_csv('processed/covtype_categorical_small.csv')\n",
    "labels = df['Cover_Type']\n",
    "df = df.drop(['Cover_Type'],axis = 1)\n",
    "data = df.drop(df.columns[[10,11]],axis = 1)\n",
    "scaler = MinMaxScaler()\n",
    "scaled = scaler.fit(data).transform(data)\n",
    "X = pd.DataFrame(scaled)\n",
    "X.columns = ['Elevation', 'Aspect', 'Slope', 'Horizontal_Distance_To_Hydrology', 'Vertical_Distance_To_Hydrology', 'Horizontal_Distance_To_Roadways', 'Hillshade_9am', 'Hillshade_Noon', 'Hillshade_3pm', 'Horizontal_Distance_To_Fire_Points']\n",
    "X['Wilderness_Area'] = df['Wilderness_Area']\n",
    "X['Soil_Type'] = df['Soil_Type']\n",
    "\n",
    "# Drop Features\n",
    "X = X.drop(['Aspect', 'Slope', 'Wilderness_Area'],axis = 1)"
   ]
  },
  {
   "cell_type": "markdown",
   "metadata": {},
   "source": [
    "## Data Split"
   ]
  },
  {
   "cell_type": "code",
   "execution_count": 46,
   "metadata": {
    "collapsed": true
   },
   "outputs": [],
   "source": [
    "X_train,X_test, Y_train,Y_test = train_test_split(X,labels,test_size = 0.2)"
   ]
  },
  {
   "cell_type": "markdown",
   "metadata": {},
   "source": [
    "## Classification\n",
    "> Decision Tree"
   ]
  },
  {
   "cell_type": "code",
   "execution_count": 61,
   "metadata": {
    "collapsed": true,
    "scrolled": false
   },
   "outputs": [],
   "source": [
    "tree_model = tree.DecisionTreeClassifier(criterion = 'entropy',max_depth = 30).fit(X_train,Y_train)\n",
    "tree_data = tree.export_graphviz(tree_model,out_file = None,\n",
    "                         feature_names=list(X),    \n",
    "                         filled=True, rounded=True,  \n",
    "                         special_characters=True)\n",
    "graph = graphviz.Source(tree_data)\n",
    "# graph"
   ]
  },
  {
   "cell_type": "code",
   "execution_count": 58,
   "metadata": {},
   "outputs": [
    {
     "name": "stdout",
     "output_type": "stream",
     "text": [
      "Accuracy:  0.941404266671\n",
      "\n",
      "Report: \n",
      "              precision    recall  f1-score   support\n",
      "\n",
      "          1       0.94      0.94      0.94     42415\n",
      "          2       0.95      0.95      0.95     56726\n",
      "          3       0.93      0.93      0.93      7090\n",
      "          4       0.84      0.82      0.83       523\n",
      "          5       0.85      0.85      0.85      1894\n",
      "          6       0.89      0.87      0.88      3442\n",
      "          7       0.96      0.94      0.95      4113\n",
      "\n",
      "avg / total       0.94      0.94      0.94    116203\n",
      "\n"
     ]
    }
   ],
   "source": [
    "predictions = tree_model.predict(X_test)\n",
    "acc = accuracy_score(Y_test,predictions)\n",
    "print ('Accuracy: ',acc)\n",
    "report = classification_report(Y_test,predictions)\n",
    "print ('\\nReport: \\n',report)"
   ]
  },
  {
   "cell_type": "markdown",
   "metadata": {},
   "source": [
    "###### Conclusions\n",
    "\n",
    "> Accuracy = 69 % at max_depth = 5\n",
    "\n",
    "> Accuracy = 76 % at max_depth = 10\n",
    "\n",
    "> Accuracy = 85 % at max_depth = 15\n",
    "\n",
    "> Accuracy = 91.7 % at max_depth = 20\n",
    "\n",
    "> Accuracy = 94.1 % at max_depth = 30\n",
    "\n",
    "\n",
    "> - Increasing depth increases accuracy.\n",
    "\n",
    "> - Model fitted after dropping less important features such as Wilderness Area, Slope, Aspect. But this does not affect the overall accuracy. The effect is less than 1 per cent\n",
    "\n",
    "> - Model fitted after dropping the two categorical variables i.e wilderness area and soil type. This reduces the accuracy by 2-3 % at most since soil_type is important \n"
   ]
  }
 ],
 "metadata": {
  "kernelspec": {
   "display_name": "Python 3",
   "language": "python",
   "name": "python3"
  },
  "language_info": {
   "codemirror_mode": {
    "name": "ipython",
    "version": 3
   },
   "file_extension": ".py",
   "mimetype": "text/x-python",
   "name": "python",
   "nbconvert_exporter": "python",
   "pygments_lexer": "ipython3",
   "version": "3.6.3"
  }
 },
 "nbformat": 4,
 "nbformat_minor": 2
}
