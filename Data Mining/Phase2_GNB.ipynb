{
 "cells": [
  {
   "cell_type": "code",
   "execution_count": 1,
   "metadata": {
    "collapsed": true
   },
   "outputs": [],
   "source": [
    "import pandas as pd\n",
    "import numpy as np\n",
    "from sklearn import datasets\n",
    "from sklearn.preprocessing import MinMaxScaler\n",
    "from sklearn.naive_bayes import GaussianNB\n",
    "from sklearn.model_selection import train_test_split\n",
    "from sklearn.metrics import accuracy_score,confusion_matrix,precision_score,recall_score,classification_report\n",
    "from sklearn.model_selection import cross_val_score\n",
    "from sklearn import tree\n",
    "import seaborn as sns\n",
    "import matplotlib.pyplot as plt\n",
    "import graphviz"
   ]
  },
  {
   "cell_type": "markdown",
   "metadata": {},
   "source": [
    "## Load Data"
   ]
  },
  {
   "cell_type": "code",
   "execution_count": 2,
   "metadata": {
    "collapsed": true
   },
   "outputs": [],
   "source": [
    "df = pd.read_csv('processed/covtype_categorical_small.csv')\n",
    "labels = df['Cover_Type']\n",
    "df = df.drop(['Cover_Type'],axis = 1)\n",
    "data = df.drop(df.columns[[10,11]],axis = 1)\n",
    "scaler = MinMaxScaler()\n",
    "scaled = scaler.fit(data).transform(data)\n",
    "X = pd.DataFrame(scaled)\n",
    "X.columns = ['Elevation', 'Aspect', 'Slope', 'Horizontal_Distance_To_Hydrology', 'Vertical_Distance_To_Hydrology', 'Horizontal_Distance_To_Roadways', 'Hillshade_9am', 'Hillshade_Noon', 'Hillshade_3pm', 'Horizontal_Distance_To_Fire_Points']\n",
    "X['Wilderness_Area'] = df['Wilderness_Area']\n",
    "X['Soil_Type'] = df['Soil_Type']\n",
    "\n",
    "# Drop Features\n",
    "X = X.drop(['Aspect', 'Slope', 'Wilderness_Area'],axis = 1)"
   ]
  },
  {
   "cell_type": "markdown",
   "metadata": {},
   "source": [
    "## Data Split"
   ]
  },
  {
   "cell_type": "code",
   "execution_count": 3,
   "metadata": {
    "collapsed": true
   },
   "outputs": [],
   "source": [
    "X_train,X_test, Y_train,Y_test = train_test_split(X,labels,test_size = 0.2)"
   ]
  },
  {
   "cell_type": "markdown",
   "metadata": {},
   "source": [
    "## Classification\n",
    "> Random Forest"
   ]
  },
  {
   "cell_type": "code",
   "execution_count": 4,
   "metadata": {
    "collapsed": true,
    "scrolled": false
   },
   "outputs": [],
   "source": [
    "gnb = GaussianNB().fit(X_train,Y_train)"
   ]
  },
  {
   "cell_type": "code",
   "execution_count": 5,
   "metadata": {},
   "outputs": [
    {
     "name": "stdout",
     "output_type": "stream",
     "text": [
      "Accuracy:  0.625087132002\n",
      "\n",
      "Report: \n",
      "              precision    recall  f1-score   support\n",
      "\n",
      "          1       0.60      0.70      0.65     42732\n",
      "          2       0.74      0.59      0.65     56396\n",
      "          3       0.56      0.83      0.67      7055\n",
      "          4       0.49      0.32      0.39       541\n",
      "          5       0.21      0.22      0.22      1886\n",
      "          6       0.31      0.25      0.28      3475\n",
      "          7       0.37      0.58      0.45      4118\n",
      "\n",
      "avg / total       0.64      0.63      0.63    116203\n",
      "\n"
     ]
    }
   ],
   "source": [
    "predictions = gnb.predict(X_test)\n",
    "acc = accuracy_score(Y_test,predictions)\n",
    "print ('Accuracy: ',acc)\n",
    "report = classification_report(Y_test,predictions)\n",
    "print ('\\nReport: \\n',report)"
   ]
  },
  {
   "cell_type": "markdown",
   "metadata": {},
   "source": [
    "###### Conclusions\n",
    "\n",
    "> Accuracy = 62.01 %\n",
    "\n",
    "> - Model fitted after dropping less important features such as Wilderness Area, Slope, Aspect. But this does not affect the overall accuracy. The effect is less than 1 per cent\n",
    "\n",
    "> - Model fitted after dropping the two categorical variables i.e wilderness area and soil type. This reduces the accuracy by 2-3 % at most since soil_type is important \n"
   ]
  }
 ],
 "metadata": {
  "kernelspec": {
   "display_name": "Python 3",
   "language": "python",
   "name": "python3"
  },
  "language_info": {
   "codemirror_mode": {
    "name": "ipython",
    "version": 3
   },
   "file_extension": ".py",
   "mimetype": "text/x-python",
   "name": "python",
   "nbconvert_exporter": "python",
   "pygments_lexer": "ipython3",
   "version": "3.6.3"
  }
 },
 "nbformat": 4,
 "nbformat_minor": 2
}
