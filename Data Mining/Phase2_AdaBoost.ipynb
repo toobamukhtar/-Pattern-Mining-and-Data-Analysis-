{
 "cells": [
  {
   "cell_type": "code",
   "execution_count": 20,
   "metadata": {
    "collapsed": true
   },
   "outputs": [],
   "source": [
    "import pandas as pd\n",
    "import numpy as np\n",
    "from sklearn import datasets\n",
    "from sklearn.preprocessing import MinMaxScaler\n",
    "from sklearn.ensemble import AdaBoostClassifier,GradientBoostingClassifier,BaggingClassifier\n",
    "from sklearn.model_selection import train_test_split\n",
    "from sklearn.metrics import accuracy_score,confusion_matrix,precision_score,recall_score,classification_report\n",
    "from sklearn.model_selection import cross_val_score\n",
    "from sklearn import tree\n",
    "import seaborn as sns\n",
    "import matplotlib.pyplot as plt\n",
    "import graphviz"
   ]
  },
  {
   "cell_type": "markdown",
   "metadata": {},
   "source": [
    "## Load Data"
   ]
  },
  {
   "cell_type": "code",
   "execution_count": 8,
   "metadata": {
    "collapsed": true
   },
   "outputs": [],
   "source": [
    "df = pd.read_csv('processed/covtype_categorical_small.csv')\n",
    "labels = df['Cover_Type']\n",
    "df = df.drop(['Cover_Type'],axis = 1)\n",
    "data = df.drop(df.columns[[10,11]],axis = 1)\n",
    "scaler = MinMaxScaler()\n",
    "scaled = scaler.fit(data).transform(data)\n",
    "X = pd.DataFrame(scaled)\n",
    "X.columns = ['Elevation', 'Aspect', 'Slope', 'Horizontal_Distance_To_Hydrology', 'Vertical_Distance_To_Hydrology', 'Horizontal_Distance_To_Roadways', 'Hillshade_9am', 'Hillshade_Noon', 'Hillshade_3pm', 'Horizontal_Distance_To_Fire_Points']\n",
    "X['Wilderness_Area'] = df['Wilderness_Area']\n",
    "X['Soil_Type'] = df['Soil_Type']\n",
    "\n",
    "# Drop Features\n",
    "X = X.drop(['Aspect', 'Slope', 'Wilderness_Area','Soil_Type'],axis = 1)"
   ]
  },
  {
   "cell_type": "markdown",
   "metadata": {},
   "source": [
    "## Data Split"
   ]
  },
  {
   "cell_type": "code",
   "execution_count": 4,
   "metadata": {
    "collapsed": true
   },
   "outputs": [],
   "source": [
    "X_train,X_test, Y_train,Y_test = train_test_split(X,labels,test_size = 0.2)"
   ]
  },
  {
   "cell_type": "markdown",
   "metadata": {},
   "source": [
    "## Classification\n",
    ">Gradient Boosting"
   ]
  },
  {
   "cell_type": "code",
   "execution_count": 25,
   "metadata": {
    "collapsed": true,
    "scrolled": false
   },
   "outputs": [],
   "source": [
    "clf = GradientBoostingClassifier().fit(X_train,Y_train)"
   ]
  },
  {
   "cell_type": "code",
   "execution_count": 26,
   "metadata": {},
   "outputs": [
    {
     "name": "stdout",
     "output_type": "stream",
     "text": [
      "Accuracy:  0.750600242679\n",
      "\n",
      "Report: \n",
      "              precision    recall  f1-score   support\n",
      "\n",
      "          1       0.73      0.74      0.74     42575\n",
      "          2       0.76      0.82      0.79     56536\n",
      "          3       0.74      0.76      0.75      7103\n",
      "          4       0.81      0.65      0.72       514\n",
      "          5       0.77      0.16      0.26      1895\n",
      "          6       0.64      0.35      0.46      3457\n",
      "          7       0.84      0.52      0.64      4123\n",
      "\n",
      "avg / total       0.75      0.75      0.74    116203\n",
      "\n"
     ]
    }
   ],
   "source": [
    "predictions = clf.predict(X_test)\n",
    "acc = accuracy_score(Y_test,predictions)\n",
    "print ('Accuracy: ',acc)\n",
    "report = classification_report(Y_test,predictions)\n",
    "print ('\\nReport: \\n',report)"
   ]
  },
  {
   "cell_type": "markdown",
   "metadata": {},
   "source": [
    "> AdaBoost"
   ]
  },
  {
   "cell_type": "code",
   "execution_count": 17,
   "metadata": {
    "collapsed": true
   },
   "outputs": [],
   "source": [
    "clf = AdaBoostClassifier(n_estimators = 100).fit(X_train,Y_train)"
   ]
  },
  {
   "cell_type": "code",
   "execution_count": 18,
   "metadata": {},
   "outputs": [
    {
     "name": "stdout",
     "output_type": "stream",
     "text": [
      "Accuracy:  0.592024302299\n",
      "\n",
      "Report: \n",
      "              precision    recall  f1-score   support\n",
      "\n",
      "          1       0.65      0.62      0.64     42575\n",
      "          2       0.72      0.62      0.66     56536\n",
      "          3       0.41      0.92      0.56      7103\n",
      "          4       0.00      0.00      0.00       514\n",
      "          5       0.00      0.00      0.00      1895\n",
      "          6       0.00      0.00      0.00      3457\n",
      "          7       0.08      0.21      0.12      4123\n",
      "\n",
      "avg / total       0.61      0.59      0.59    116203\n",
      "\n"
     ]
    },
    {
     "name": "stderr",
     "output_type": "stream",
     "text": [
      "C:\\Users\\Ammar\\Anaconda2\\envs\\Dip-demo\\lib\\site-packages\\sklearn\\metrics\\classification.py:1135: UndefinedMetricWarning: Precision and F-score are ill-defined and being set to 0.0 in labels with no predicted samples.\n",
      "  'precision', 'predicted', average, warn_for)\n"
     ]
    }
   ],
   "source": [
    "predictions = clf.predict(X_test)\n",
    "acc = accuracy_score(Y_test,predictions)\n",
    "print ('Accuracy: ',acc)\n",
    "report = classification_report(Y_test,predictions)\n",
    "print ('\\nReport: \\n',report)"
   ]
  },
  {
   "cell_type": "code",
   "execution_count": 21,
   "metadata": {
    "collapsed": true
   },
   "outputs": [],
   "source": [
    "clf = BaggingClassifier().fit(X_train,Y_train)"
   ]
  },
  {
   "cell_type": "code",
   "execution_count": 22,
   "metadata": {},
   "outputs": [
    {
     "name": "stdout",
     "output_type": "stream",
     "text": [
      "Accuracy:  0.954329922635\n",
      "\n",
      "Report: \n",
      "              precision    recall  f1-score   support\n",
      "\n",
      "          1       0.95      0.96      0.96     42575\n",
      "          2       0.96      0.96      0.96     56536\n",
      "          3       0.93      0.95      0.94      7103\n",
      "          4       0.90      0.82      0.85       514\n",
      "          5       0.93      0.79      0.86      1895\n",
      "          6       0.94      0.86      0.90      3457\n",
      "          7       0.98      0.94      0.96      4123\n",
      "\n",
      "avg / total       0.95      0.95      0.95    116203\n",
      "\n"
     ]
    }
   ],
   "source": [
    "predictions = clf.predict(X_test)\n",
    "acc = accuracy_score(Y_test,predictions)\n",
    "print ('Accuracy: ',acc)\n",
    "report = classification_report(Y_test,predictions)\n",
    "print ('\\nReport: \\n',report)"
   ]
  },
  {
   "cell_type": "markdown",
   "metadata": {},
   "source": [
    "###### Conclusions\n",
    "\n",
    "> Random Forest works best on this. \n",
    "\n",
    "> Accuracy = 96.01 %\n",
    "\n",
    "> - Model fitted after dropping less important features such as Wilderness Area, Slope, Aspect. But this does not affect the overall accuracy. The effect is less than 1 per cent\n",
    "\n",
    "> - Model fitted after dropping the two categorical variables i.e wilderness area and soil type. This reduces the accuracy by 2-3 % at most since soil_type is important \n"
   ]
  }
 ],
 "metadata": {
  "kernelspec": {
   "display_name": "Python 3",
   "language": "python",
   "name": "python3"
  },
  "language_info": {
   "codemirror_mode": {
    "name": "ipython",
    "version": 3
   },
   "file_extension": ".py",
   "mimetype": "text/x-python",
   "name": "python",
   "nbconvert_exporter": "python",
   "pygments_lexer": "ipython3",
   "version": "3.6.3"
  }
 },
 "nbformat": 4,
 "nbformat_minor": 2
}
